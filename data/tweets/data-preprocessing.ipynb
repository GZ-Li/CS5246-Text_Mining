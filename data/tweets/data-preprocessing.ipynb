{
 "cells": [
  {
   "cell_type": "code",
   "execution_count": 4,
   "id": "13821342",
   "metadata": {},
   "outputs": [],
   "source": [
    "import re\n",
    "import csv\n",
    "\n",
    "def pre_process(file_name):\n",
    "    sentences = []\n",
    "    entities = []\n",
    "\n",
    "    with open(file_name+'.txt') as f:\n",
    "        for row in f:\n",
    "            row = row.strip()\n",
    "            if row:\n",
    "                sentences.append(row)\n",
    "\n",
    "    # re patterns\n",
    "    pattern = re.compile(r\"\\b(\\w+)\\s*:\\s*([^),]+)\\b\")\n",
    "    \n",
    "    # find patterns in sentences\n",
    "    for s in sentences:\n",
    "        s = s.lower()\n",
    "        s = ' '.join(word for word in s.split() if not re.match(r'\\d+.', word))\n",
    "        matches = pattern.findall(s)\n",
    "        entity = []\n",
    "        s = re.sub(r\"\\((.*?)\\)\", \"\", s).strip()\n",
    "        for word in s.split():\n",
    "            flag = False\n",
    "            word = re.sub(r\"\\'s\", \"\", word)\n",
    "            for match in matches: \n",
    "                if not flag:\n",
    "                    vec = match[1].split()\n",
    "                    for v in vec:\n",
    "                        if word == v:\n",
    "                            entity.append((word, match[0]))\n",
    "                            flag = True\n",
    "            if not flag:\n",
    "                entity.append((word, 'O'))\n",
    "        entities.append(entity)\n",
    "\n",
    "    with open('res_'+file_name+'.csv', 'w', newline='') as f1:\n",
    "        writer = csv.writer(f1)\n",
    "        writer.writerow(['Corpus', 'Label'])\n",
    "        for i in range(len(sentences)):\n",
    "            sentences[i] = ' '.join(word for word in sentences[i].split() if not re.match(r'\\d+.', word))\n",
    "            corpus = re.sub(r\"\\((.*?)\\)\", \"\", sentences[i]).strip()\n",
    "            labels = ' '.join(label for _, label in entities[i])\n",
    "            writer.writerow([corpus, labels])"
   ]
  },
  {
   "cell_type": "code",
   "execution_count": 7,
   "id": "86e5b03b",
   "metadata": {},
   "outputs": [],
   "source": [
    "# file_list = ['gen_busi_data', 'gen_busi_data_non', 'gen_medical_data', 'gen_medical_data_non', \\\n",
    "#             'gen_nasc_data', 'gen_nasc_data_non']\n",
    "file_list = ['gen_nasc_data', 'gen_nasc_data_non']"
   ]
  },
  {
   "cell_type": "code",
   "execution_count": 8,
   "id": "539d3464",
   "metadata": {},
   "outputs": [],
   "source": [
    "for f in file_list:\n",
    "    pre_process(f)"
   ]
  },
  {
   "cell_type": "code",
   "execution_count": null,
   "id": "033e90be",
   "metadata": {},
   "outputs": [],
   "source": []
  }
 ],
 "metadata": {
  "kernelspec": {
   "display_name": "py37",
   "language": "python",
   "name": "py37"
  },
  "language_info": {
   "codemirror_mode": {
    "name": "ipython",
    "version": 3
   },
   "file_extension": ".py",
   "mimetype": "text/x-python",
   "name": "python",
   "nbconvert_exporter": "python",
   "pygments_lexer": "ipython3",
   "version": "3.7.16"
  }
 },
 "nbformat": 4,
 "nbformat_minor": 5
}
